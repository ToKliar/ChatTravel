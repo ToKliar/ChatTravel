{
 "cells": [
  {
   "cell_type": "code",
   "execution_count": 1,
   "id": "f1d640e8",
   "metadata": {},
   "outputs": [
    {
     "name": "stdout",
     "output_type": "stream",
     "text": [
      "Found model file at  ../gpt4all_model/ggml-gpt4all-j-v1.3-groovy.bin\n",
      "gptj_model_load: loading model from '../gpt4all_model/ggml-gpt4all-j-v1.3-groovy.bin' - please wait ...\n",
      "gptj_model_load: n_vocab = 50400\n",
      "gptj_model_load: n_ctx   = 2048\n",
      "gptj_model_load: n_embd  = 4096\n",
      "gptj_model_load: n_head  = 16\n",
      "gptj_model_load: n_layer = 28\n",
      "gptj_model_load: n_rot   = 64\n",
      "gptj_model_load: f16     = 2\n",
      "gptj_model_load: ggml ctx size = 5401.45 MB\n",
      "gptj_model_load: kv self size  =  896.00 MB\n",
      "gptj_model_load: ................................... done\n",
      "gptj_model_load: model size =  3609.38 MB / num tensors = 285\n"
     ]
    }
   ],
   "source": [
    "from gpt4all import GPT4All\n",
    "\n",
    "gptj = GPT4All(\"ggml-gpt4all-j-v1.3-groovy\", \"../gpt4all_model/\")"
   ]
  },
  {
   "cell_type": "code",
   "execution_count": 16,
   "id": "46a0ede8",
   "metadata": {},
   "outputs": [],
   "source": [
    "location = \"New York\"\n",
    "date = \"June 3\"\n",
    "duration = \"1-day\"\n",
    "budget = \"$600\"\n",
    "assumption = \"Now you are my travel assistant and guide.\"\n",
    "background = \"I am planning a {} trip to {} starting from {}, with a budget of {}.\".format(duration, location, date, budget)\n",
    "need = '''Please give the local weather conditions at that time and recommend what to bring according to the weather conditions.\n",
    "In addition, please recommend the appropriate mode of transportation based on the travel information and weather conditions provided above.\n",
    "Finally, based on the above information, please give some safety tips during the tour.'''"
   ]
  },
  {
   "cell_type": "code",
   "execution_count": 58,
   "id": "9830ea34",
   "metadata": {},
   "outputs": [
    {
     "name": "stdout",
     "output_type": "stream",
     "text": [
      "\n"
     ]
    }
   ],
   "source": [
    "output = \"Please output date, weather condition, recommended items to bring, recommended transportation, safety tips for the first day of the trip in table format.\"\n",
    "promt = \"\\n\".join([assumption, background, need, output])\n",
    "messages = [{\"role\": \"user\", \"content\": promt}]\n",
    "table_response = gptj.chat_completion(messages, verbose=False, streaming=False)"
   ]
  },
  {
   "cell_type": "code",
   "execution_count": 59,
   "id": "2c1db8b0",
   "metadata": {},
   "outputs": [],
   "source": [
    "response = table_response['choices'][0]['message']['content']"
   ]
  },
  {
   "cell_type": "code",
   "execution_count": 60,
   "id": "7451861c",
   "metadata": {},
   "outputs": [],
   "source": [
    "first_day = response.split(\"||\")[2].strip()\n",
    "date, weather, bring, tranportation, tips = first_day.split('|')"
   ]
  },
  {
   "cell_type": "code",
   "execution_count": 61,
   "id": "c612b026",
   "metadata": {},
   "outputs": [
    {
     "name": "stdout",
     "output_type": "stream",
     "text": [
      "June 3, 2021   Sunny and warm with a high of 75°F   Sunscreen, sunglasses, hat and light clothing for walking   Subway or bus, avoid driving in the city during rush hour   Keep valuables in a secure location, avoid walking alone at night\n"
     ]
    }
   ],
   "source": [
    "print(date, weather, bring, tranportation, tips)"
   ]
  },
  {
   "cell_type": "code",
   "execution_count": 56,
   "id": "0242fd0f",
   "metadata": {},
   "outputs": [
    {
     "name": "stdout",
     "output_type": "stream",
     "text": [
      "\n"
     ]
    }
   ],
   "source": [
    "output = \"Please output date, weather condition, items recommended to bring, recommended transportation, safety tips for the first day of the trip in json format.\"\n",
    "promt = \"\\n\".join([assumption, background, need, output])\n",
    "messages = [{\"role\": \"user\", \"content\": promt}]\n",
    "json_response = gptj.chat_completion(messages, verbose=False, streaming=False)\n",
    "response = json_response['choices'][0]['message']['content'].strip()"
   ]
  },
  {
   "cell_type": "code",
   "execution_count": 57,
   "id": "0e743b52",
   "metadata": {},
   "outputs": [
    {
     "name": "stdout",
     "output_type": "stream",
     "text": [
      "items recommended to bring ['raincoat']\n",
      "recommended transportation []\n",
      "{'date': 'June 3', 'weather condition': 'Sunny and warm with occasional rain showers', 'items recommended to bring': 'raincoat', 'recommended transportation': '', 'safety tips for the first day of the trip': 'Be aware of your surroundings and keep an eye on the weather forecast. Stay hydrated and bring enough water to avoid dehydration. Keep valuables in a secure location and avoid carrying them around.'}\n"
     ]
    }
   ],
   "source": [
    "import json\n",
    "json_dict = json.loads(response.strip())\n",
    "for key in json_dict.keys():\n",
    "    if isinstance(json_dict[key], list):\n",
    "        print(key, json_dict[key])\n",
    "        json_dict[key] = \",\".join(json_dict[key])\n",
    "print(json_dict)"
   ]
  },
  {
   "cell_type": "code",
   "execution_count": null,
   "id": "0ca0b0ee",
   "metadata": {},
   "outputs": [],
   "source": []
  }
 ],
 "metadata": {
  "kernelspec": {
   "display_name": "Python 3 (ipykernel)",
   "language": "python",
   "name": "python3"
  },
  "language_info": {
   "codemirror_mode": {
    "name": "ipython",
    "version": 3
   },
   "file_extension": ".py",
   "mimetype": "text/x-python",
   "name": "python",
   "nbconvert_exporter": "python",
   "pygments_lexer": "ipython3",
   "version": "3.8.10"
  }
 },
 "nbformat": 4,
 "nbformat_minor": 5
}
